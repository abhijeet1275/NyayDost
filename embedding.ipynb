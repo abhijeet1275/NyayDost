{
 "cells": [
  {
   "cell_type": "code",
   "execution_count": 1,
   "metadata": {},
   "outputs": [
    {
     "name": "stdout",
     "output_type": "stream",
     "text": [
      "Defaulting to user installation because normal site-packages is not writeable\n",
      "Requirement already satisfied: sentence-transformers in c:\\users\\dhruv\\appdata\\roaming\\python\\python312\\site-packages (3.1.1)\n",
      "Requirement already satisfied: transformers<5.0.0,>=4.38.0 in c:\\users\\dhruv\\appdata\\roaming\\python\\python312\\site-packages (from sentence-transformers) (4.38.1)\n",
      "Requirement already satisfied: tqdm in c:\\users\\dhruv\\appdata\\roaming\\python\\python312\\site-packages (from sentence-transformers) (4.66.5)\n",
      "Requirement already satisfied: torch>=1.11.0 in c:\\users\\dhruv\\appdata\\roaming\\python\\python312\\site-packages (from sentence-transformers) (2.4.1)\n",
      "Requirement already satisfied: scikit-learn in c:\\users\\dhruv\\appdata\\roaming\\python\\python312\\site-packages (from sentence-transformers) (1.5.0)\n",
      "Requirement already satisfied: scipy in c:\\users\\dhruv\\appdata\\roaming\\python\\python312\\site-packages (from sentence-transformers) (1.13.1)\n",
      "Requirement already satisfied: huggingface-hub>=0.19.3 in c:\\users\\dhruv\\appdata\\roaming\\python\\python312\\site-packages (from sentence-transformers) (0.25.1)\n",
      "Requirement already satisfied: Pillow in c:\\users\\dhruv\\appdata\\roaming\\python\\python312\\site-packages (from sentence-transformers) (10.3.0)\n",
      "Requirement already satisfied: filelock in c:\\users\\dhruv\\appdata\\roaming\\python\\python312\\site-packages (from huggingface-hub>=0.19.3->sentence-transformers) (3.16.1)\n",
      "Requirement already satisfied: fsspec>=2023.5.0 in c:\\users\\dhruv\\appdata\\roaming\\python\\python312\\site-packages (from huggingface-hub>=0.19.3->sentence-transformers) (2023.10.0)\n",
      "Requirement already satisfied: packaging>=20.9 in c:\\users\\dhruv\\appdata\\roaming\\python\\python312\\site-packages (from huggingface-hub>=0.19.3->sentence-transformers) (24.1)\n",
      "Requirement already satisfied: pyyaml>=5.1 in c:\\users\\dhruv\\appdata\\roaming\\python\\python312\\site-packages (from huggingface-hub>=0.19.3->sentence-transformers) (6.0.1)\n",
      "Requirement already satisfied: requests in c:\\users\\dhruv\\appdata\\roaming\\python\\python312\\site-packages (from huggingface-hub>=0.19.3->sentence-transformers) (2.32.3)\n",
      "Requirement already satisfied: typing-extensions>=3.7.4.3 in c:\\users\\dhruv\\appdata\\roaming\\python\\python312\\site-packages (from huggingface-hub>=0.19.3->sentence-transformers) (4.12.2)\n",
      "Requirement already satisfied: sympy in c:\\users\\dhruv\\appdata\\roaming\\python\\python312\\site-packages (from torch>=1.11.0->sentence-transformers) (1.13.3)\n",
      "Requirement already satisfied: networkx in c:\\users\\dhruv\\appdata\\roaming\\python\\python312\\site-packages (from torch>=1.11.0->sentence-transformers) (3.3)\n",
      "Requirement already satisfied: jinja2 in c:\\users\\dhruv\\appdata\\roaming\\python\\python312\\site-packages (from torch>=1.11.0->sentence-transformers) (3.1.4)\n",
      "Requirement already satisfied: setuptools in c:\\users\\dhruv\\appdata\\roaming\\python\\python312\\site-packages (from torch>=1.11.0->sentence-transformers) (69.0.2)\n",
      "Requirement already satisfied: colorama in c:\\users\\dhruv\\appdata\\roaming\\python\\python312\\site-packages (from tqdm->sentence-transformers) (0.4.6)\n",
      "Requirement already satisfied: numpy>=1.17 in c:\\users\\dhruv\\appdata\\roaming\\python\\python312\\site-packages (from transformers<5.0.0,>=4.38.0->sentence-transformers) (1.26.2)\n",
      "Requirement already satisfied: regex!=2019.12.17 in c:\\users\\dhruv\\appdata\\roaming\\python\\python312\\site-packages (from transformers<5.0.0,>=4.38.0->sentence-transformers) (2024.9.11)\n",
      "Requirement already satisfied: tokenizers<0.19,>=0.14 in c:\\users\\dhruv\\appdata\\roaming\\python\\python312\\site-packages (from transformers<5.0.0,>=4.38.0->sentence-transformers) (0.15.2)\n",
      "Requirement already satisfied: safetensors>=0.4.1 in c:\\users\\dhruv\\appdata\\roaming\\python\\python312\\site-packages (from transformers<5.0.0,>=4.38.0->sentence-transformers) (0.4.5)\n",
      "Requirement already satisfied: joblib>=1.2.0 in c:\\users\\dhruv\\appdata\\roaming\\python\\python312\\site-packages (from scikit-learn->sentence-transformers) (1.4.2)\n",
      "Requirement already satisfied: threadpoolctl>=3.1.0 in c:\\users\\dhruv\\appdata\\roaming\\python\\python312\\site-packages (from scikit-learn->sentence-transformers) (3.5.0)\n",
      "Requirement already satisfied: MarkupSafe>=2.0 in c:\\users\\dhruv\\appdata\\roaming\\python\\python312\\site-packages (from jinja2->torch>=1.11.0->sentence-transformers) (2.1.5)\n",
      "Requirement already satisfied: charset-normalizer<4,>=2 in c:\\users\\dhruv\\appdata\\roaming\\python\\python312\\site-packages (from requests->huggingface-hub>=0.19.3->sentence-transformers) (3.3.2)\n",
      "Requirement already satisfied: idna<4,>=2.5 in c:\\program files\\python312\\lib\\site-packages (from requests->huggingface-hub>=0.19.3->sentence-transformers) (3.6)\n",
      "Requirement already satisfied: urllib3<3,>=1.21.1 in c:\\program files\\python312\\lib\\site-packages (from requests->huggingface-hub>=0.19.3->sentence-transformers) (2.2.0)\n",
      "Requirement already satisfied: certifi>=2017.4.17 in c:\\program files\\python312\\lib\\site-packages (from requests->huggingface-hub>=0.19.3->sentence-transformers) (2023.11.17)\n",
      "Requirement already satisfied: mpmath<1.4,>=1.1.0 in c:\\users\\dhruv\\appdata\\roaming\\python\\python312\\site-packages (from sympy->torch>=1.11.0->sentence-transformers) (1.3.0)\n"
     ]
    }
   ],
   "source": [
    "!pip3 install sentence-transformers"
   ]
  },
  {
   "cell_type": "code",
   "execution_count": 2,
   "metadata": {},
   "outputs": [
    {
     "name": "stderr",
     "output_type": "stream",
     "text": [
      "C:\\Users\\dhruv\\AppData\\Roaming\\Python\\Python312\\site-packages\\sentence_transformers\\cross_encoder\\CrossEncoder.py:13: TqdmExperimentalWarning: Using `tqdm.autonotebook.tqdm` in notebook mode. Use `tqdm.tqdm` instead to force console mode (e.g. in jupyter console)\n",
      "  from tqdm.autonotebook import tqdm, trange\n"
     ]
    },
    {
     "data": {
      "application/vnd.jupyter.widget-view+json": {
       "model_id": "1755ee052840486cad04e19b410c7093",
       "version_major": 2,
       "version_minor": 0
      },
      "text/plain": [
       "modules.json:   0%|          | 0.00/229 [00:00<?, ?B/s]"
      ]
     },
     "metadata": {},
     "output_type": "display_data"
    },
    {
     "name": "stderr",
     "output_type": "stream",
     "text": [
      "C:\\Users\\dhruv\\AppData\\Roaming\\Python\\Python312\\site-packages\\huggingface_hub\\file_download.py:147: UserWarning: `huggingface_hub` cache-system uses symlinks by default to efficiently store duplicated files but your machine does not support them in C:\\Users\\dhruv\\.cache\\huggingface\\hub\\models--sentence-transformers--paraphrase-MiniLM-L6-v2. Caching files will still work but in a degraded version that might require more space on your disk. This warning can be disabled by setting the `HF_HUB_DISABLE_SYMLINKS_WARNING` environment variable. For more details, see https://huggingface.co/docs/huggingface_hub/how-to-cache#limitations.\n",
      "To support symlinks on Windows, you either need to activate Developer Mode or to run Python as an administrator. In order to activate developer mode, see this article: https://docs.microsoft.com/en-us/windows/apps/get-started/enable-your-device-for-development\n",
      "  warnings.warn(message)\n"
     ]
    },
    {
     "data": {
      "application/vnd.jupyter.widget-view+json": {
       "model_id": "bbf73b3753e8415199351f14eb4891b8",
       "version_major": 2,
       "version_minor": 0
      },
      "text/plain": [
       "config_sentence_transformers.json:   0%|          | 0.00/122 [00:00<?, ?B/s]"
      ]
     },
     "metadata": {},
     "output_type": "display_data"
    },
    {
     "data": {
      "application/vnd.jupyter.widget-view+json": {
       "model_id": "644c2806667d43cfa6f90677d0553893",
       "version_major": 2,
       "version_minor": 0
      },
      "text/plain": [
       "README.md:   0%|          | 0.00/3.73k [00:00<?, ?B/s]"
      ]
     },
     "metadata": {},
     "output_type": "display_data"
    },
    {
     "data": {
      "application/vnd.jupyter.widget-view+json": {
       "model_id": "38e20b45706e4efe874c9e32bea9243e",
       "version_major": 2,
       "version_minor": 0
      },
      "text/plain": [
       "sentence_bert_config.json:   0%|          | 0.00/53.0 [00:00<?, ?B/s]"
      ]
     },
     "metadata": {},
     "output_type": "display_data"
    },
    {
     "name": "stderr",
     "output_type": "stream",
     "text": [
      "C:\\Users\\dhruv\\AppData\\Roaming\\Python\\Python312\\site-packages\\huggingface_hub\\file_download.py:1142: FutureWarning: `resume_download` is deprecated and will be removed in version 1.0.0. Downloads always resume when possible. If you want to force a new download, use `force_download=True`.\n",
      "  warnings.warn(\n"
     ]
    },
    {
     "data": {
      "application/vnd.jupyter.widget-view+json": {
       "model_id": "558261b4262d459dbc54bd19d5c37267",
       "version_major": 2,
       "version_minor": 0
      },
      "text/plain": [
       "config.json:   0%|          | 0.00/629 [00:00<?, ?B/s]"
      ]
     },
     "metadata": {},
     "output_type": "display_data"
    },
    {
     "data": {
      "application/vnd.jupyter.widget-view+json": {
       "model_id": "a56be8d47f414b8cbe08d6f51999691e",
       "version_major": 2,
       "version_minor": 0
      },
      "text/plain": [
       "model.safetensors:   0%|          | 0.00/90.9M [00:00<?, ?B/s]"
      ]
     },
     "metadata": {},
     "output_type": "display_data"
    },
    {
     "data": {
      "application/vnd.jupyter.widget-view+json": {
       "model_id": "7f8d8c29aed64b6f99d5f88ceb96c693",
       "version_major": 2,
       "version_minor": 0
      },
      "text/plain": [
       "tokenizer_config.json:   0%|          | 0.00/314 [00:00<?, ?B/s]"
      ]
     },
     "metadata": {},
     "output_type": "display_data"
    },
    {
     "data": {
      "application/vnd.jupyter.widget-view+json": {
       "model_id": "1a2e4ab0df3d4aca95930e770c2c1523",
       "version_major": 2,
       "version_minor": 0
      },
      "text/plain": [
       "vocab.txt:   0%|          | 0.00/232k [00:00<?, ?B/s]"
      ]
     },
     "metadata": {},
     "output_type": "display_data"
    },
    {
     "data": {
      "application/vnd.jupyter.widget-view+json": {
       "model_id": "0bce6acdc7814172ae2c93851d434489",
       "version_major": 2,
       "version_minor": 0
      },
      "text/plain": [
       "tokenizer.json:   0%|          | 0.00/466k [00:00<?, ?B/s]"
      ]
     },
     "metadata": {},
     "output_type": "display_data"
    },
    {
     "data": {
      "application/vnd.jupyter.widget-view+json": {
       "model_id": "e64b066e01fa4744b6ee1ed820af738c",
       "version_major": 2,
       "version_minor": 0
      },
      "text/plain": [
       "special_tokens_map.json:   0%|          | 0.00/112 [00:00<?, ?B/s]"
      ]
     },
     "metadata": {},
     "output_type": "display_data"
    },
    {
     "data": {
      "application/vnd.jupyter.widget-view+json": {
       "model_id": "3d756a9bec514514b18c8ccc9c540eca",
       "version_major": 2,
       "version_minor": 0
      },
      "text/plain": [
       "1_Pooling/config.json:   0%|          | 0.00/190 [00:00<?, ?B/s]"
      ]
     },
     "metadata": {},
     "output_type": "display_data"
    },
    {
     "name": "stdout",
     "output_type": "stream",
     "text": [
      "Sentence: This is a sample sentence.\n",
      "Embedding: [ 1.48160636e-01  4.50174421e-01  4.43880558e-01 -5.75775746e-03\n",
      "  2.30935261e-01  6.38215542e-02  6.69694901e-01 -9.86252427e-02\n",
      "  3.98057640e-01 -5.23383915e-02  4.10217158e-02 -4.80665177e-01\n",
      "  4.29067820e-01 -5.94870746e-02  1.88025534e-01 -6.42495528e-02\n",
      "  3.09908748e-01 -5.50603680e-03 -5.46688557e-01  1.04826450e-01\n",
      "  1.75596118e-01 -1.96129046e-02  1.65050346e-02 -2.36211687e-01\n",
      "  1.95586190e-01 -3.66735011e-02  6.98039085e-02 -2.11289749e-01\n",
      " -6.90553337e-03 -9.60153341e-03 -2.26589233e-01  2.72091240e-01\n",
      "  3.94957930e-01 -1.87519953e-01  8.77647698e-02  1.76479697e-01\n",
      " -1.98397055e-01  9.84480903e-02 -1.78747162e-01  1.58364639e-01\n",
      "  1.32493168e-01 -2.71862239e-01  6.49807975e-02  4.05540586e-01\n",
      " -5.10149896e-01  1.16315357e-01 -1.30733386e-01  1.85074091e-01\n",
      " -2.27409780e-01  1.45900488e-01 -6.38599277e-01 -4.90331240e-02\n",
      " -2.49330655e-01  2.03625187e-01 -1.85961232e-01 -3.55397880e-01\n",
      "  1.40119120e-01 -5.93534410e-01 -4.06912714e-01  1.64623365e-01\n",
      " -3.50510716e-01  2.49354914e-01 -9.46575105e-01  3.39309275e-01\n",
      "  2.24293709e-01  2.05528766e-01 -2.29298607e-01  3.57786268e-02\n",
      " -2.38106996e-01  4.00278509e-01  2.50483751e-01  2.73562133e-01\n",
      " -2.36683220e-01  4.71222520e-01 -6.00131571e-01 -1.48540348e-01\n",
      "  1.79951549e-01 -5.43360822e-02  6.55766502e-02  1.05775654e-01\n",
      " -2.05454826e-01 -2.37821296e-01 -2.54412740e-01  3.30863856e-02\n",
      " -2.86861777e-01 -1.22772269e-01 -1.49689794e-01  4.48936880e-01\n",
      " -5.13289332e-01 -1.96491688e-01 -5.84263682e-01  2.04966187e-01\n",
      "  5.00447392e-01  9.09525529e-03 -5.52301668e-02  6.00865006e-01\n",
      " -1.66287735e-01 -6.07655108e-01  3.32204670e-01  2.50101417e-01\n",
      "  4.41526026e-02  3.57961357e-01 -4.19554889e-01 -1.69291534e-03\n",
      "  1.07385524e-01 -7.48945236e-01 -5.10658860e-01 -2.22259909e-01\n",
      "  1.10212922e-01  2.51642764e-01 -5.21997452e-01 -2.34097186e-02\n",
      "  3.34563881e-01 -1.55419245e-01 -2.49809399e-01 -5.57884634e-01\n",
      " -4.34265137e-01  1.32922605e-01 -3.24402839e-01  1.87572226e-01\n",
      "  2.00501502e-01  4.44213957e-01  4.28927988e-01 -1.48187995e-01\n",
      "  2.88859252e-02 -1.53633565e-01  2.85427511e-01  5.56377888e-01\n",
      " -1.59358941e-02 -3.96215916e-01  3.35225165e-01 -4.71790314e-01\n",
      "  3.47496331e-01  9.39997807e-02 -7.09507108e-01 -2.18291655e-01\n",
      "  4.13298726e-01 -1.85160153e-02  1.56304210e-01  5.71430624e-02\n",
      "  2.75646389e-01  5.24564683e-01  1.31989807e-01  3.23105365e-01\n",
      " -5.01782835e-01  3.15988302e-01 -9.12374929e-02  3.23638096e-02\n",
      " -6.32507950e-02 -1.57794356e-01  4.62240428e-01  3.48277986e-01\n",
      "  1.25820283e-02 -4.66713786e-01 -4.49403375e-02 -1.84154525e-01\n",
      "  1.06142554e-02  3.26183021e-01  1.63104802e-01  5.76204658e-02\n",
      " -2.76046723e-01 -5.54010049e-02  8.15982968e-02  8.49917233e-02\n",
      " -2.12842420e-01  8.69996995e-02  7.15411827e-03  3.23721111e-01\n",
      "  4.87670302e-02 -5.97445257e-02  5.88777363e-01  1.66253477e-01\n",
      "  2.59815574e-01 -4.67399448e-01 -3.74151081e-01 -3.00547555e-02\n",
      " -3.58383179e-01  4.25684303e-01  8.59225988e-02  2.06352733e-02\n",
      "  2.59527922e-01 -5.78585640e-03  4.90627289e-02  2.93961614e-01\n",
      " -1.75303951e-01  3.35003972e-01 -1.22658320e-01  4.07085150e-01\n",
      " -2.42332995e-01 -3.08102667e-02 -7.15191901e-01  4.58628178e-01\n",
      "  3.62819374e-01  1.80504143e-01 -1.62393644e-01  6.91995844e-02\n",
      "  4.66077715e-01  6.36352003e-02 -8.56116936e-02  4.97875623e-02\n",
      " -4.44831043e-01  2.35151798e-01 -2.22600013e-01 -1.32721260e-01\n",
      "  8.27149689e-01  2.89637625e-01  1.84890613e-01 -1.14080772e-01\n",
      " -8.90279263e-02 -9.71089378e-02 -1.51870608e-01 -2.01417714e-01\n",
      " -5.07471263e-01  4.16378409e-01  3.32025439e-01 -1.19600818e-02\n",
      "  9.57112610e-02  4.49523985e-01 -2.22876251e-01 -3.60908002e-01\n",
      " -1.63920224e-01 -2.08650053e-01  1.14281721e-01 -6.83996975e-01\n",
      " -9.73125454e-04  2.79419154e-01 -1.28501728e-01  2.56234586e-01\n",
      "  5.81962287e-01 -3.81113261e-01 -2.86871102e-02  1.43046930e-01\n",
      " -2.49784604e-01 -7.21394867e-02 -8.38502765e-01 -4.57135260e-01\n",
      "  6.43587232e-01 -2.44810715e-01 -3.59064430e-01  9.84615237e-02\n",
      "  7.03624859e-02 -1.62572563e-01 -9.76100564e-05  3.23263049e-01\n",
      " -3.25572342e-01  6.54117465e-01  5.29072359e-02  4.32858206e-02\n",
      " -6.94794282e-02 -2.76210189e-01 -2.76075393e-01 -3.14865381e-01\n",
      " -2.28859022e-01  4.13458407e-01 -4.31361616e-01  7.80533999e-02\n",
      " -2.72132456e-01  1.00369692e-01  5.50023019e-02 -4.74392653e-01\n",
      "  8.32640886e-01 -2.36329362e-01  2.00355053e-01 -3.89513597e-02\n",
      "  4.26982939e-01 -2.76913017e-01 -1.04584306e-01  2.18023717e-01\n",
      " -1.15685627e-01 -1.21032834e-01 -3.64845246e-01 -5.36562443e-01\n",
      "  3.49289104e-02 -8.79547372e-03 -3.10594797e-01  3.62589717e-01\n",
      " -8.06213170e-02  2.47506946e-01 -1.64066866e-01 -8.81103218e-01\n",
      "  1.87597945e-01 -8.46634507e-01  7.97287002e-02  1.91207618e-01\n",
      " -7.80982852e-01  3.88520546e-02  4.73007038e-02  3.43029857e-01\n",
      "  5.76458216e-01  3.77231419e-01 -2.68284678e-01  6.43332005e-01\n",
      "  7.43012652e-02 -1.95197150e-01  5.90460896e-02 -2.98983574e-01\n",
      " -7.28561282e-02  3.85752320e-03 -2.81148940e-01 -7.16233999e-02\n",
      " -2.46535361e-01 -1.26548214e-02 -1.49006665e-01  3.39514643e-01\n",
      "  1.08012423e-01 -2.62088984e-01  3.63365889e-01  2.56666631e-01\n",
      " -1.99326158e-01  8.69772956e-02 -9.35799032e-02 -4.14407462e-01\n",
      " -1.29145011e-01  2.08101153e-01 -1.16068684e-01 -3.66149276e-01\n",
      "  4.54550460e-02  1.00949034e-03 -4.93127853e-02  1.93529446e-02\n",
      "  4.98076916e-01 -3.45802307e-03  6.22748137e-02  3.04220095e-02\n",
      "  4.79811877e-01  2.23869473e-01  2.39069350e-02 -2.47448340e-01\n",
      "  8.98356959e-02  1.76253065e-01  3.20496559e-01  1.47030309e-01\n",
      " -1.17764007e-02  1.00620531e-01  7.72432536e-02  6.01780564e-02\n",
      " -2.93428302e-01  1.59525499e-01 -2.41127044e-01  1.64362788e-01\n",
      "  9.95534137e-02  2.83066899e-01  1.03396721e-01 -1.28761515e-01\n",
      "  6.22943863e-02 -2.29385030e-02  1.14900768e-01 -4.47111949e-03\n",
      " -3.06818873e-01  6.44095242e-04 -7.64115453e-02  6.48030400e-01\n",
      " -6.36922792e-02 -2.39164799e-01  3.08682173e-01 -2.75662899e-01\n",
      "  4.67612267e-01 -3.30456942e-01  3.24093223e-01 -3.71747106e-01\n",
      " -1.27469495e-01 -1.07670620e-01  2.99700409e-01  6.56648338e-01\n",
      "  1.44077182e-01  2.65506864e-01 -4.93770033e-01 -1.50784254e-02\n",
      "  3.33912000e-02  3.41625139e-03 -3.50078911e-01  1.22532267e-02\n",
      "  6.44590437e-01 -1.16986588e-01  1.31327838e-01 -1.71925072e-02\n",
      "  1.37791291e-01  1.10977672e-01  1.25660628e-01  1.97002918e-01\n",
      "  2.03352988e-01  3.00934136e-01  7.09097624e-01  2.47689132e-02]\n",
      "\n",
      "Sentence: Sentence transformers generate embeddings.\n",
      "Embedding: [-8.16938400e-01  1.81866512e-01 -8.87092799e-02 -6.06704354e-01\n",
      " -6.80303991e-01 -2.43344121e-02  1.50535747e-01 -3.71029884e-01\n",
      "  3.53835337e-02  2.72569358e-01 -4.04532393e-03  2.68335879e-01\n",
      "  4.61693197e-01  4.83055025e-01  1.41733497e-01  6.49254739e-01\n",
      "  1.03619710e-01  8.03687871e-01 -2.79671937e-01 -3.76267433e-01\n",
      "  9.20739293e-01  1.50523797e-01  1.69699997e-01 -2.74085581e-01\n",
      "  1.98918372e-01  5.52146852e-01  2.03723356e-01 -4.49624926e-01\n",
      "  3.93895864e-01 -2.42788672e-01 -6.81118816e-02  1.47494271e-01\n",
      " -2.62751490e-01  1.97789997e-01 -3.12745273e-01  3.54010649e-02\n",
      " -3.58045772e-02  6.20930493e-01  4.13549185e-01 -9.72744763e-01\n",
      " -3.85546595e-01  1.81081995e-01 -8.92059803e-02  3.77219826e-01\n",
      " -4.57760423e-01 -2.21232936e-01  2.49615386e-01  1.30105764e-01\n",
      " -2.23528549e-01 -2.12049961e-01  1.91722244e-01 -2.91774720e-02\n",
      " -6.12520516e-01  8.65234993e-03  6.28583739e-03 -8.57075863e-03\n",
      "  4.89957422e-01 -9.88213867e-02 -2.64998768e-02 -3.55349332e-02\n",
      " -6.64527774e-01 -3.72490525e-01 -1.59031183e-01  5.09036005e-01\n",
      " -1.91967800e-01  4.44861278e-02  3.22268307e-02 -1.91189125e-01\n",
      " -5.66419840e-01  7.51885414e-01 -6.86239421e-01 -2.58275956e-01\n",
      "  2.04917520e-01  2.90311962e-01  2.11673066e-01  2.26930529e-02\n",
      " -4.22738940e-01 -2.10966676e-01  2.13264018e-01 -3.12392294e-01\n",
      "  4.97579038e-01 -1.53405473e-01 -2.23360255e-01  2.74680078e-01\n",
      "  1.67991251e-01  5.75225577e-02  2.31425203e-02 -4.66673315e-01\n",
      " -1.19976662e-01 -1.08442530e-01 -4.25546497e-01 -8.73804092e-01\n",
      "  5.51623702e-01  9.63915363e-02 -3.52608144e-01 -3.55011284e-01\n",
      "  1.31130531e-01 -2.43300237e-02  5.90463281e-01  6.93783760e-02\n",
      " -3.21494281e-01 -2.57468633e-02 -7.02462077e-01 -2.09482506e-01\n",
      "  2.44666979e-01 -5.95847726e-01  1.38262093e-01 -5.14843822e-01\n",
      "  8.94479975e-02 -6.53575221e-03 -3.08321416e-01  2.18870968e-01\n",
      " -4.32735056e-01 -3.41058224e-01  2.26614386e-01 -2.05629349e-01\n",
      "  5.15778244e-01 -1.82789654e-01 -2.88536042e-01 -1.82347134e-01\n",
      "  3.71617824e-01  2.14286640e-01 -5.18831551e-01  4.44008768e-01\n",
      "  2.24193737e-01 -4.32459079e-02  7.77251482e-01  3.73830289e-01\n",
      "  4.49596405e-01  1.58623070e-01  1.89113185e-01  5.01568019e-01\n",
      "  6.80134714e-01  8.67386162e-01 -1.82665698e-02 -9.23530459e-02\n",
      "  3.06204617e-01  1.45251185e-01  2.51119077e-01 -1.09890997e-02\n",
      " -2.23726198e-01  9.54219460e-01  3.47444475e-01  9.70353335e-02\n",
      "  1.73055229e-03 -2.55124625e-02 -6.10053182e-01 -5.30964732e-02\n",
      " -4.64966781e-02  1.77890718e-01  2.01977223e-01 -2.05862552e-01\n",
      " -5.37134767e-01 -2.62569010e-01  9.36862677e-02  1.79679364e-01\n",
      "  9.94424988e-03  1.22522555e-01 -2.32222557e-01 -3.21605653e-02\n",
      "  9.23821405e-02  3.32177818e-01  1.23864889e-01  1.85996652e-01\n",
      "  5.04093051e-01 -2.25061297e-01  1.83591798e-01 -4.07804668e-01\n",
      " -5.89578860e-02  3.20288777e-01 -3.75421159e-02  2.34145135e-01\n",
      " -3.39656055e-01 -3.83270711e-01  1.64688438e-01  2.57448792e-01\n",
      " -4.72988039e-01  3.03611815e-01 -2.35845014e-01  9.79893655e-02\n",
      " -1.92707062e-01 -9.96749848e-02  1.10172287e-01 -2.78910816e-01\n",
      " -4.26947206e-01 -4.34937060e-01  7.43036330e-01 -5.25399968e-02\n",
      " -3.85401249e-01  1.37162462e-01 -1.64001241e-01  1.90611750e-01\n",
      "  2.64130533e-01 -6.05603913e-03  2.68771797e-01 -3.06422532e-01\n",
      "  4.28689480e-01 -6.99516386e-02 -3.13039005e-01 -2.28526443e-01\n",
      " -6.93069279e-01 -2.09227771e-01 -2.51546621e-01  1.44110143e-01\n",
      " -6.87078089e-02  2.83839047e-01 -1.56206444e-01 -4.51011956e-01\n",
      " -5.45191050e-01 -1.05355933e-01 -3.87964537e-03 -4.44946945e-01\n",
      "  5.49610257e-01 -4.34041113e-01 -2.99488269e-02  3.12920749e-01\n",
      " -2.29973510e-01 -1.20856807e-01 -1.89213246e-01 -4.33849722e-01\n",
      "  7.98652917e-02 -4.48387302e-02  1.97736904e-01 -2.99096286e-01\n",
      " -1.85482696e-01  3.87014925e-01 -4.45621073e-01  6.36635423e-01\n",
      " -3.13105851e-01 -4.52653170e-02 -2.20132947e-01 -7.23199472e-02\n",
      " -1.49896890e-01 -2.78029531e-01 -6.56631231e-01 -1.22374795e-01\n",
      "  1.32845134e-01  1.37514964e-01  8.47337320e-02 -3.82107794e-01\n",
      " -1.40425056e-01 -1.61450133e-01  4.99247611e-02 -6.92281276e-02\n",
      "  8.52202028e-02  6.49404407e-01 -2.21311614e-01 -1.41330823e-01\n",
      "  9.48945358e-02  4.32577550e-01 -2.62816966e-01  1.35258451e-01\n",
      "  1.57580227e-01  6.35862172e-01 -6.25252187e-01  2.93430805e-01\n",
      "  7.27902725e-02 -4.89976890e-02 -3.13748926e-01 -5.78490853e-01\n",
      "  5.82435966e-01  7.49890953e-02  2.87513789e-02  8.54403451e-02\n",
      "  3.43065187e-02  1.49077848e-01 -3.47081602e-01  4.13432300e-01\n",
      " -5.58247149e-01 -3.73277605e-01 -9.18222427e-01  1.01297960e-01\n",
      "  3.95122558e-01  4.08888996e-01  1.00524329e-01  1.60105884e-01\n",
      " -5.69661200e-01 -6.85930133e-01 -6.98124409e-01 -1.21099867e-01\n",
      " -3.97828758e-01 -6.61680877e-01  6.56865478e-01  8.40397656e-01\n",
      " -5.30622125e-01 -9.68270451e-02 -3.67218740e-02 -7.98239589e-01\n",
      "  4.87751305e-01 -2.59962618e-01  2.82797158e-01  6.77594990e-02\n",
      "  7.62030303e-01 -2.49578431e-01  2.90477097e-01  1.99982494e-01\n",
      "  1.37014106e-01 -2.75395423e-01  2.22335547e-01 -4.79215801e-01\n",
      " -2.30285600e-01  2.94255257e-01 -5.16490757e-01  2.64383912e-01\n",
      "  9.52914655e-02 -2.28007838e-01  5.78633547e-01  2.14473039e-01\n",
      " -1.90868527e-01 -2.98288137e-01  1.00917116e-01  2.95086384e-01\n",
      " -7.10393935e-02  3.16039622e-01  1.74094122e-02  7.37700760e-01\n",
      "  3.39003563e-01  3.23979855e-01 -3.55954438e-01  4.64581549e-01\n",
      " -2.48225331e-02  3.29127833e-02  2.06470683e-01 -2.95903921e-01\n",
      "  8.27081949e-02 -4.57708240e-02  4.36147034e-01  2.83438265e-01\n",
      " -1.12289950e-01 -6.22748733e-01  8.13076317e-01  2.83603549e-01\n",
      "  6.78486973e-02 -4.26385477e-02  2.16078833e-01  3.56094509e-01\n",
      "  4.31126766e-02  1.22415207e-01 -3.30453694e-01  2.38486573e-01\n",
      " -6.98386282e-02  4.55837011e-01 -5.54015040e-01  2.01430872e-01\n",
      "  8.19347770e-05  1.96125507e-01 -5.33276975e-01  3.37799132e-01\n",
      " -1.34454086e-01  1.54595539e-01 -4.46537845e-02  5.00624835e-01\n",
      "  5.54456890e-01  4.32287529e-02 -6.37602627e-01 -7.63946176e-02\n",
      "  3.32883239e-01 -3.62566799e-01  3.80538814e-02  2.66920447e-01\n",
      " -4.55388874e-01 -5.06585658e-01 -4.33763921e-01  2.86476314e-01\n",
      "  3.33638400e-01  2.81976640e-01  4.81510788e-01 -6.78729832e-01\n",
      " -5.82785785e-01  1.22803748e-01  1.00869894e-01  3.04108411e-01\n",
      "  4.71146882e-01  5.67287095e-02  4.13881719e-01 -3.58685434e-01\n",
      "  3.60047966e-01  9.06384084e-03 -6.92386255e-02  4.05130565e-01\n",
      " -3.77972275e-01  3.31987321e-01  3.91124189e-01 -4.35745537e-01]\n",
      "\n",
      "Sentence: Embeddings capture the meaning of the sentences.\n",
      "Embedding: [-2.41031244e-01  4.32635814e-01  3.07835221e-01 -2.56595403e-01\n",
      "  1.52527969e-02  1.46390140e-01  5.31616807e-01 -5.19088387e-01\n",
      "  1.11548409e-01 -1.93053186e-02  3.88765684e-03  8.93228352e-02\n",
      "  4.43358302e-01 -1.56404182e-01  2.66957700e-01  4.60241735e-01\n",
      "  2.66268462e-01  8.44454467e-01 -5.75247049e-01 -5.34501076e-01\n",
      "  2.13130921e-01 -1.96891442e-01  1.52245268e-01 -1.74651131e-01\n",
      "  4.08771008e-01  1.26482219e-01 -2.68666923e-01 -2.22405583e-01\n",
      "  4.02745873e-01 -1.24727145e-01  1.16267323e-01 -7.02630430e-02\n",
      "  8.98982957e-02  6.91518039e-02 -7.99322650e-02  4.82358128e-01\n",
      " -1.26538903e-01  4.05184299e-01  5.91425262e-02 -1.95885867e-01\n",
      " -3.98414761e-01 -9.10706967e-02 -2.73311317e-01  2.91780949e-01\n",
      " -1.62603274e-01 -3.73021632e-01 -2.32387289e-01 -6.75389427e-04\n",
      " -2.01020956e-01  2.95176953e-01 -1.48048133e-01  6.64498806e-02\n",
      " -6.84421182e-01  3.43962491e-01  5.67760095e-02  2.20228523e-01\n",
      "  2.24962085e-01 -5.93488403e-02 -8.90069902e-02 -5.78208547e-03\n",
      " -2.38595009e-01 -2.64344300e-04 -6.68028831e-01  4.61850196e-01\n",
      "  5.16668037e-02 -3.01991940e-01  4.90916371e-02  2.24133402e-01\n",
      " -6.98431015e-01  6.13910258e-01 -2.26169482e-01  1.15714684e-01\n",
      " -2.16441020e-01  2.59690911e-01 -3.04263651e-01  1.53102979e-01\n",
      " -1.50556505e-01 -4.91554365e-02  2.61018306e-01 -1.24109432e-01\n",
      "  6.18080139e-01 -1.22017071e-01 -2.43440598e-01  5.71842909e-01\n",
      " -2.59633303e-01 -1.20632844e-02 -2.47537345e-01 -1.74530774e-01\n",
      " -9.61257592e-02 -1.03181846e-01 -7.07766175e-01 -8.81254852e-01\n",
      "  2.49113560e-01  2.87011415e-01  6.44765943e-02 -2.63215482e-01\n",
      " -4.61723134e-02  1.96187422e-01  3.46009374e-01  8.77118856e-02\n",
      " -3.86210114e-01  3.72593582e-01 -1.44234806e-01 -4.02133018e-01\n",
      "  1.35698393e-01 -6.08356714e-01 -7.56426081e-02 -3.37773740e-01\n",
      "  1.19799323e-01 -2.35450566e-01 -3.89843434e-01  2.45896742e-01\n",
      " -1.26982912e-01  7.46723488e-02 -1.16618328e-01  2.02772722e-01\n",
      "  3.65891963e-01 -1.38918966e-01  1.58467352e-01 -2.79208541e-01\n",
      "  1.72963202e-01  5.47984719e-01 -1.56680033e-01  7.53563643e-02\n",
      "  1.54148638e-01 -3.90224874e-01  6.69595420e-01  3.49813104e-01\n",
      "  4.74431723e-01 -4.08745438e-01  1.74689919e-01  2.48242602e-01\n",
      "  9.35127854e-01  5.34040093e-01 -2.27203071e-01 -5.37686706e-01\n",
      "  6.43685684e-02  1.34784216e-02 -1.60234794e-01 -5.34833610e-01\n",
      " -1.12990253e-01  3.79477561e-01  2.31006399e-01  2.23315701e-01\n",
      " -1.15635380e-01  2.44470060e-01 -6.97493851e-02  4.81807850e-02\n",
      " -4.34657559e-02 -6.04024157e-02 -8.94881114e-02 -2.95644760e-01\n",
      " -3.38518322e-01 -2.88854450e-01  8.51683095e-02  2.98543096e-01\n",
      " -3.33491832e-01  3.61742973e-02 -2.26221904e-01  1.43693341e-02\n",
      " -4.37258482e-02  1.18815094e-01 -3.16043161e-02  8.87880847e-03\n",
      "  4.12458628e-01 -1.31735271e-02  9.36586782e-02  3.34706269e-02\n",
      " -2.94322092e-02  1.07419714e-01  3.08227283e-03  2.14052111e-01\n",
      " -2.37251505e-01 -7.90284202e-03 -1.65554225e-01  1.81078613e-01\n",
      " -5.31372249e-01 -5.53045003e-03  3.21258336e-01  2.05783516e-01\n",
      "  1.94685355e-01 -2.50594348e-01 -4.78048697e-02  6.21479750e-02\n",
      " -2.37271950e-01 -1.89217567e-01 -6.71681315e-02  1.00612780e-03\n",
      "  2.07815617e-01 -1.94323644e-01  1.25754952e-01 -3.87912802e-02\n",
      "  3.20029289e-01  1.13381177e-01  1.08461060e-01  2.23175257e-01\n",
      "  1.15408890e-01  2.14897078e-02 -8.57979715e-01  1.16334036e-01\n",
      " -3.63892853e-01 -1.17477506e-01  1.05342912e-02  2.55348653e-01\n",
      " -1.05566997e-02  1.88502893e-01 -7.00326040e-02 -4.66275252e-02\n",
      " -9.57867205e-02 -1.80532664e-01 -3.04190889e-02 -4.15294692e-02\n",
      " -3.54171656e-02  2.07415894e-01  7.79109374e-02 -2.34610856e-01\n",
      "  1.36081308e-01  2.47332498e-01 -1.67836457e-01 -2.61198968e-01\n",
      " -4.78306040e-02 -2.08987802e-01 -1.41179398e-01 -5.36463737e-01\n",
      " -5.41668162e-02  6.34583235e-01 -8.60324621e-01  2.99712896e-01\n",
      "  9.51186987e-04  2.38939207e-02  1.58316746e-01 -8.87776241e-02\n",
      " -1.13562346e-01 -3.29630554e-01 -8.64759803e-01 -1.23604342e-01\n",
      "  1.12484545e-01  9.69704688e-02 -1.83417320e-01 -1.86519891e-01\n",
      "  4.90160435e-02  1.44944519e-01 -2.50672936e-01  3.90452057e-01\n",
      "  1.84084192e-01 -3.23849283e-02 -1.57457218e-02 -2.51508392e-02\n",
      " -1.21406550e-02  2.10836008e-01 -3.33298072e-02  1.10369846e-01\n",
      " -2.35033303e-01  2.21617475e-01 -2.44754389e-01 -6.47030920e-02\n",
      " -2.93059379e-01 -5.54040410e-02 -3.66028637e-01 -9.69635770e-02\n",
      "  7.40197480e-01 -1.82768121e-01 -1.04669645e-01  7.00842962e-02\n",
      "  2.35363811e-01 -3.60671788e-01 -4.44354802e-01 -9.44613945e-03\n",
      " -2.21296549e-02 -1.68266982e-01 -6.15662336e-01 -1.45310059e-01\n",
      " -1.13799877e-01  8.30888189e-03 -1.54111177e-01  1.48764819e-01\n",
      " -3.15070152e-01 -2.09208712e-01 -9.79954526e-02 -3.65603477e-01\n",
      " -2.08398104e-01 -6.28512442e-01  4.57393110e-01  3.60804051e-01\n",
      " -5.57980418e-01  1.69599757e-01  2.08558321e-01 -7.05699949e-03\n",
      "  3.93396348e-01 -9.93101075e-02 -1.06606737e-01 -1.52596170e-02\n",
      "  9.82821733e-02 -1.65079936e-01  1.23579472e-01 -3.82979125e-01\n",
      " -3.27327460e-01  4.73181218e-01  2.44774193e-01 -3.15287784e-02\n",
      " -3.04474652e-01 -4.55584265e-02 -2.69674838e-01  3.16224694e-01\n",
      "  1.60406530e-02 -4.73932207e-01  2.77510673e-01 -1.61071092e-01\n",
      "  1.19563136e-02 -3.19750533e-02  1.62256192e-02  9.52221230e-02\n",
      " -2.36515105e-01  1.64645344e-01 -1.43558998e-02  3.03643703e-01\n",
      "  2.00123601e-02  4.68951881e-01 -9.30232480e-02  9.02310312e-02\n",
      " -1.34270430e-01 -7.32445717e-02 -3.11881334e-01 -2.47988775e-01\n",
      " -1.71727054e-02  4.27018031e-02  1.12709962e-01  4.23399955e-01\n",
      "  1.21280737e-01 -4.88305509e-01  3.35070819e-01  1.49440311e-03\n",
      " -5.13208508e-01  3.98967899e-02 -1.23709910e-01  2.91306078e-01\n",
      "  1.25012025e-01 -1.77296132e-01 -1.06789932e-01  1.45855919e-01\n",
      "  5.67113519e-01  7.07051158e-01 -2.55005509e-01  2.91113555e-01\n",
      "  3.38143677e-01  9.97731537e-02 -1.90461084e-01  4.33020234e-01\n",
      " -6.46908730e-02  3.17525744e-01  2.37236470e-01  6.53637588e-01\n",
      "  3.54175627e-01  2.10322037e-01 -3.44965190e-01  9.55241248e-02\n",
      "  2.77483821e-01 -2.19295576e-01  3.13069262e-02  3.87468338e-01\n",
      "  9.98111963e-02  3.97836156e-02  1.48667526e-02  3.41628850e-01\n",
      "  2.41002887e-01  3.03470582e-01 -8.30956027e-02  1.11770770e-02\n",
      "  2.48188391e-01 -1.84110701e-01  1.24283709e-01 -1.61124676e-01\n",
      "  2.85326540e-01  4.56494778e-01  2.80633032e-01 -2.31088474e-01\n",
      "  1.44132748e-01  1.88589664e-04  3.92682046e-01  5.78696653e-02\n",
      " -2.16236010e-01  3.57424736e-01  3.79827350e-01 -2.73448288e-01]\n",
      "\n"
     ]
    }
   ],
   "source": [
    "from sentence_transformers import SentenceTransformer\n",
    "\n",
    "# Load pre-trained SentenceTransformer model\n",
    "model = SentenceTransformer('paraphrase-MiniLM-L6-v2')  # You can use other models as well\n",
    "\n",
    "# Define your sentences\n",
    "sentences = [\n",
    "    \"This is a sample sentence.\",\n",
    "    \"Sentence transformers generate embeddings.\",\n",
    "    \"Embeddings capture the meaning of the sentences.\"\n",
    "]\n",
    "\n",
    "# Generate embeddings for the sentences\n",
    "embeddings = model.encode(sentences)\n",
    "\n",
    "# Print embeddings (you can use them for further tasks like similarity calculation, clustering, etc.)\n",
    "for i, sentence in enumerate(sentences):\n",
    "    print(f\"Sentence: {sentence}\")\n",
    "    print(f\"Embedding: {embeddings[i]}\\n\")\n"
   ]
  },
  {
   "cell_type": "code",
   "execution_count": 3,
   "metadata": {},
   "outputs": [
    {
     "name": "stdout",
     "output_type": "stream",
     "text": [
      "Cosine Similarity: 0.7254728078842163\n",
      "Cosine Similarity: 0.19075557589530945\n",
      "Cosine Similarity: 0.690328061580658\n",
      "Cosine Similarity: 0.008345339447259903\n"
     ]
    }
   ],
   "source": [
    "from sentence_transformers import SentenceTransformer\n",
    "from sklearn.metrics.pairwise import cosine_similarity\n",
    "import numpy as np\n",
    "\n",
    "# Load pre-trained SentenceTransformer model\n",
    "model = SentenceTransformer('paraphrase-MiniLM-L6-v2')\n",
    "\n",
    "# Define similarity function\n",
    "def sentence_similarity(sentence1, sentence2):\n",
    "    # Encode sentences into embeddings\n",
    "    embedding1 = model.encode(sentence1)\n",
    "    embedding2 = model.encode(sentence2)\n",
    "    \n",
    "    # Calculate cosine similarity\n",
    "    cos_sim = cosine_similarity([embedding1], [embedding2])[0][0]\n",
    "    \n",
    "    # Calculate dot product\n",
    "    dot_product = np.dot(embedding1, embedding2)\n",
    "    \n",
    "    return cos_sim, dot_product\n",
    "\n",
    "# Example usage\n",
    "sentence1 = \"What are the benefits of eating healthy?\"\n",
    "\n",
    "answer1 = \"Eating healthy can help you lose weight, feel better, and have more energy.\"\n",
    "answer2 = \"Doing yoga and meditating can help you live longer.\"\n",
    "answer3 = \"Healthy eating can help you feel better.\"\n",
    "answer4 = \"Aryan is dancing with prasoon, at abhijeet's house\"\n",
    "\n",
    "cos_sim, dot_product = sentence_similarity(sentence1, answer1)\n",
    "cos_sim1, dot_product1 = sentence_similarity(sentence1, answer2)\n",
    "cos_sim2, dot_product2 = sentence_similarity(sentence1, answer3)\n",
    "cos_sim3, dot_product3 = sentence_similarity(sentence1, answer4)\n",
    "\n",
    "print(f\"Cosine Similarity: {cos_sim}\")\n",
    "print(f\"Cosine Similarity: {cos_sim1}\")\n",
    "print(f\"Cosine Similarity: {cos_sim2}\")\n",
    "print(f\"Cosine Similarity: {cos_sim3}\")"
   ]
  },
  {
   "cell_type": "code",
   "execution_count": 4,
   "metadata": {},
   "outputs": [
    {
     "name": "stdout",
     "output_type": "stream",
     "text": [
      "Dot Product: 30.344928741455078\n"
     ]
    }
   ],
   "source": [
    "print(f\"Dot Product: {dot_product}\")"
   ]
  },
  {
   "cell_type": "code",
   "execution_count": 5,
   "metadata": {},
   "outputs": [
    {
     "name": "stdout",
     "output_type": "stream",
     "text": [
      "Defaulting to user installation because normal site-packages is not writeable\n",
      "Requirement already satisfied: requests in c:\\users\\dhruv\\appdata\\roaming\\python\\python312\\site-packages (2.32.3)\n",
      "Requirement already satisfied: charset-normalizer<4,>=2 in c:\\users\\dhruv\\appdata\\roaming\\python\\python312\\site-packages (from requests) (3.3.2)\n",
      "Requirement already satisfied: idna<4,>=2.5 in c:\\program files\\python312\\lib\\site-packages (from requests) (3.6)\n",
      "Requirement already satisfied: urllib3<3,>=1.21.1 in c:\\program files\\python312\\lib\\site-packages (from requests) (2.2.0)\n",
      "Requirement already satisfied: certifi>=2017.4.17 in c:\\program files\\python312\\lib\\site-packages (from requests) (2023.11.17)\n",
      "Defaulting to user installation because normal site-packages is not writeable\n",
      "Requirement already satisfied: beautifulsoup4 in c:\\users\\dhruv\\appdata\\roaming\\python\\python312\\site-packages (4.12.3)\n",
      "Requirement already satisfied: soupsieve>1.2 in c:\\users\\dhruv\\appdata\\roaming\\python\\python312\\site-packages (from beautifulsoup4) (2.5)\n"
     ]
    }
   ],
   "source": [
    "!pip3 install requests\n",
    "!pip3 install beautifulsoup4"
   ]
  },
  {
   "cell_type": "code",
   "execution_count": null,
   "metadata": {},
   "outputs": [],
   "source": []
  },
  {
   "cell_type": "code",
   "execution_count": null,
   "metadata": {},
   "outputs": [],
   "source": []
  },
  {
   "cell_type": "code",
   "execution_count": 6,
   "metadata": {},
   "outputs": [],
   "source": [
    "def get_html_content():\n",
    "    import requests\n",
    "    from bs4 import BeautifulSoup\n",
    "    import re\n",
    "    # print(requests.get(\"https://njdg.ecourts.gov.in/njdg_v3/\").content)\n",
    "    resp = requests.get(\"https://njdg.ecourts.gov.in/\")\n",
    "    \"\"\" print(resp.content) \"\"\"\n",
    "    soup = BeautifulSoup(resp.content, \"html.parser\")\n",
    "    \"\"\" print(soup.prettify()) \"\"\"\n",
    "    return soup"
   ]
  },
  {
   "cell_type": "code",
   "execution_count": 7,
   "metadata": {},
   "outputs": [
    {
     "name": "stdout",
     "output_type": "stream",
     "text": [
      "<title>NJDG-National Judicial Data Grid</title>\n"
     ]
    }
   ],
   "source": [
    "soup = get_html_content()\n",
    "print(soup.title)"
   ]
  },
  {
   "cell_type": "code",
   "execution_count": 8,
   "metadata": {},
   "outputs": [],
   "source": [
    "system_prompt = \"Summarize the html file returned by the get_html_content function\"\n",
    "msg = \"Number of Cases listed today on the website\""
   ]
  },
  {
   "cell_type": "code",
   "execution_count": 9,
   "metadata": {},
   "outputs": [
    {
     "ename": "SyntaxError",
     "evalue": "incomplete input (4275129224.py, line 1)",
     "output_type": "error",
     "traceback": [
      "\u001b[1;36m  Cell \u001b[1;32mIn[9], line 1\u001b[1;36m\u001b[0m\n\u001b[1;33m    print(llm_invokes(system_prompt, msg)\u001b[0m\n\u001b[1;37m                                         ^\u001b[0m\n\u001b[1;31mSyntaxError\u001b[0m\u001b[1;31m:\u001b[0m incomplete input\n"
     ]
    }
   ],
   "source": [
    "print(llm_invokes(system_prompt, msg))"
   ]
  },
  {
   "cell_type": "markdown",
   "metadata": {},
   "source": []
  }
 ],
 "metadata": {
  "kernelspec": {
   "display_name": ".venv",
   "language": "python",
   "name": "python3"
  },
  "language_info": {
   "codemirror_mode": {
    "name": "ipython",
    "version": 3
   },
   "file_extension": ".py",
   "mimetype": "text/x-python",
   "name": "python",
   "nbconvert_exporter": "python",
   "pygments_lexer": "ipython3",
   "version": "3.12.1"
  }
 },
 "nbformat": 4,
 "nbformat_minor": 2
}
